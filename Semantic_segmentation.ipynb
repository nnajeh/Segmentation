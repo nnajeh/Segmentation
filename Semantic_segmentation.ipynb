{
  "nbformat": 4,
  "nbformat_minor": 0,
  "metadata": {
    "colab": {
      "name": "Semantic_segmentation.ipynb",
      "provenance": [],
      "collapsed_sections": [],
      "mount_file_id": "18tgnNSgvGkQ-ebKGq4AaP_gHbfGkk8Mb",
      "authorship_tag": "ABX9TyNCkXWnHuXcqztdCbVra6PX",
      "include_colab_link": true
    },
    "kernelspec": {
      "name": "python3",
      "display_name": "Python 3"
    },
    "language_info": {
      "name": "python"
    },
    "accelerator": "GPU"
  },
  "cells": [
    {
      "cell_type": "markdown",
      "metadata": {
        "id": "view-in-github",
        "colab_type": "text"
      },
      "source": [
        "<a href=\"https://colab.research.google.com/github/nnajeh/Segmentation/blob/main/Semantic_segmentation.ipynb\" target=\"_parent\"><img src=\"https://colab.research.google.com/assets/colab-badge.svg\" alt=\"Open In Colab\"/></a>"
      ]
    },
    {
      "cell_type": "code",
      "metadata": {
        "cellView": "form",
        "id": "60_S7wHFo4FP"
      },
      "source": [
        "#@title Import libraries\n"
      ],
      "execution_count": null,
      "outputs": []
    },
    {
      "cell_type": "code",
      "metadata": {
        "id": "ln1SxEhTnwFU"
      },
      "source": [
        "import os\n",
        "!pip install -q torch_snippets pytorch_model_summary\n",
        "from torch_snippets import *\n",
        "from torchvision import transforms\n",
        "from sklearn.model_selection import train_test_split\n",
        "from PIL import Image\n",
        "\n",
        "device = 'cuda' if torch.cuda.is_available() else 'cpu'"
      ],
      "execution_count": 236,
      "outputs": []
    },
    {
      "cell_type": "code",
      "metadata": {
        "cellView": "form",
        "id": "n2XHHt47q5J0"
      },
      "source": [
        "#@title Define dataset\n"
      ],
      "execution_count": null,
      "outputs": []
    },
    {
      "cell_type": "code",
      "metadata": {
        "id": "aTO8qa5anv6u"
      },
      "source": [
        "# Download datset\n",
        "if not os.path.exists('dataset1'):\n",
        "  !wget -q https://www.dropbox.com/s/0pigmmmynbf9xwq/dataset1.zip\n",
        "  !unzip -q dataset1.zip\n",
        "  !rm dataset1.zip\n"
      ],
      "execution_count": null,
      "outputs": []
    },
    {
      "cell_type": "code",
      "metadata": {
        "id": "GHIq6Ampqxmd"
      },
      "source": [
        "tfms = transforms.Compose([transforms.ToTensor(),\n",
        "                           transforms.Normalize([0.485, 0.456, 0.406],[0.229, 0.224, 0.225])\n",
        "                           ])"
      ],
      "execution_count": 237,
      "outputs": []
    },
    {
      "cell_type": "code",
      "metadata": {
        "id": "qjtZS3iCq96l"
      },
      "source": [
        "class SegData(Dataset):\n",
        "  def __init__(self, split):\n",
        "    self.items=stems(f'dataset1/images_prepped_{split}')\n",
        "    self.split = split\n",
        "  \n",
        "  def __len__(self):\n",
        "    return len(self.items)\n",
        "\n",
        "  def __getitem__(self, idx):\n",
        "    image = read(f'dataset1/images_prepped_{self.split}/{self.items[idx]}.png', 1)\n",
        "    image = cv2.resize(image, (224,224))\n",
        "\n",
        "    mask  = read(f'dataset1/annotations_prepped_{self.split}/{self.items[idx]}.png')\n",
        "    mask = cv2.resize(mask, (224,224))\n",
        "    \n",
        "    return image, mask\n",
        " \n",
        "  #selecting a random image index\n",
        "  def choose(self):\n",
        "    return self[randint(len(self))]\n",
        "  \n",
        "  #perform preprocessing on a batch of images:\n",
        "  def collate_fn(self, batch):\n",
        "    ims, masks = list(zip(*batch))\n",
        "    ims = torch.cat([tfms(im.copy()/255.)[None] for im in ims]).float().to(device)\n",
        "    ce_masks = torch.cat([torch.Tensor(mask[None]) for mask in masks]).long().to(device)\n",
        "    return ims, ce_masks\n"
      ],
      "execution_count": 238,
      "outputs": []
    },
    {
      "cell_type": "code",
      "metadata": {
        "colab": {
          "base_uri": "https://localhost:8080/"
        },
        "id": "RsM8Zw61t704",
        "outputId": "4cdd9afe-5ea3-4ef2-e53d-a8b97a0dfcfc"
      },
      "source": [
        "# Define the training and validation datasets, as well as the dataloaders\n",
        "trn_ds = SegData('train')\n",
        "val_ds = SegData('test')\n",
        "trn_dl = DataLoader(trn_ds, batch_size=4, shuffle=True, collate_fn=trn_ds.collate_fn)\n",
        "val_dl = DataLoader(val_ds, batch_size=1, shuffle=True, collate_fn=val_ds.collate_fn)"
      ],
      "execution_count": 239,
      "outputs": [
        {
          "output_type": "stream",
          "name": "stderr",
          "text": [
            "2021-09-12 15:39:17.794 | INFO     | torch_snippets.paths:inner:24 - 367 files found at dataset1/images_prepped_train\n",
            "2021-09-12 15:39:17.808 | INFO     | torch_snippets.paths:inner:24 - 101 files found at dataset1/images_prepped_test\n"
          ]
        }
      ]
    },
    {
      "cell_type": "code",
      "metadata": {
        "cellView": "form",
        "id": "nX_eZLM3uEiG"
      },
      "source": [
        "#@title Define the U-NET Model\n"
      ],
      "execution_count": 240,
      "outputs": []
    },
    {
      "cell_type": "code",
      "metadata": {
        "id": "FJVDyXQ0uZ4-"
      },
      "source": [
        "# Define the convolution block\n",
        "def conv(in_channels, out_channels):\n",
        "  return nn.Sequential(nn.Conv2d(in_channels, \n",
        "                                 out_channels,  \n",
        "                                 kernel_size=3, \n",
        "                                 stride=1,   \n",
        "                                 padding=1 ),\n",
        "                       \n",
        "                       nn.BatchNorm2d(out_channels),\n",
        "                       nn.ReLU(inplace=True)\n",
        "  )"
      ],
      "execution_count": 241,
      "outputs": []
    },
    {
      "cell_type": "code",
      "metadata": {
        "id": "U4AXXikBw2-m"
      },
      "source": [
        "# Define the up_conv block:\n",
        "#ConvTranspose2d upscale the images, which reduce the dimensions of the image:\n",
        "# from an image of in_channels number of channels to an image of out_channels number of channels\n",
        "\n",
        "def up_conv(in_channels, out_channels):\n",
        "  return nn.Sequential(nn.ConvTranspose2d(in_channels, \n",
        "                                          out_channels,\n",
        "                                          kernel_size=2, \n",
        "                                          stride=2),\n",
        "                      nn.ReLU(inplace=True)\n",
        "  )"
      ],
      "execution_count": 242,
      "outputs": []
    },
    {
      "cell_type": "code",
      "metadata": {
        "id": "UQxKiRpNzsHt"
      },
      "source": [
        "#Define the network class (UNet):\n",
        "\n",
        "# import vgg16_bn pretrained model\n",
        "from torchvision.models import vgg16_bn\n",
        "\n",
        "class UNet(nn.Module):\n",
        "  def __init__(self, pretrained=True, out_channels=12):\n",
        "    super().__init__()\n",
        "\n",
        "    self.encoder = vgg16_bn(pretrained=pretrained).features\n",
        "\n",
        "    self.block1 = nn.Sequential(*self.encoder[:6])\n",
        "    self.block2 = nn.Sequential(*self.encoder[6:13])\n",
        "    self.block3 = nn.Sequential(*self.encoder[13:20])\n",
        "    self.block4 = nn.Sequential(*self.encoder[20:27])\n",
        "    self.block5 = nn.Sequential(*self.encoder[27:34])\n",
        "    self.bottleneck = nn.Sequential(*self.encoder[34:])\n",
        "\n",
        "    self.conv_bottleneck = conv(512, 1024)\n",
        "   \n",
        "    self.up_conv6 = up_conv(1024, 512)\n",
        "    self.conv6 = conv(512 + 512, 512)\n",
        "   \n",
        "    self.up_conv7 = up_conv(512, 256)\n",
        "    self.conv7 = conv(256 + 512, 256)\n",
        "   \n",
        "    self.up_conv8 = up_conv(256, 128)\n",
        "    self.conv8 = conv(128 + 256, 128)\n",
        "   \n",
        "    self.up_conv9 = up_conv(128, 64)\n",
        "    self.conv9 = conv(64 + 128, 64)\n",
        "   \n",
        "    self.up_conv10 = up_conv(64, 32)\n",
        "    self.conv10 = conv(32 + 64, 32)\n",
        "   \n",
        "    self.conv11 = nn.Conv2d(32, out_channels, kernel_size=1)\n",
        "\n",
        "\n",
        "  def forward(self, x):\n",
        "    block1 = self.block1(x)\n",
        "    block2 = self.block2(block1)\n",
        "    block3 = self.block3(block2)\n",
        "    block4 = self.block4(block3)\n",
        "    block5 = self.block5(block4)\n",
        "\n",
        "    bottleneck = self.bottleneck(block5)\n",
        "    x = self.conv_bottleneck(bottleneck)\n",
        "    \n",
        "    x = self.up_conv6(x)\n",
        "    x = torch.cat([x, block5], dim=1)\n",
        "    x = self.conv6(x)\n",
        "\n",
        "    x = self.up_conv7(x)\n",
        "    x = torch.cat([x, block4], dim=1)\n",
        "    x = self.conv7(x)\n",
        "    \n",
        "    x = self.up_conv8(x)\n",
        "    x = torch.cat([x, block3], dim=1)\n",
        "    x = self.conv8(x)\n",
        "    \n",
        "    x = self.up_conv9(x)\n",
        "    x = torch.cat([x, block2], dim=1)\n",
        "    x = self.conv9(x)\n",
        "    \n",
        "    x = self.up_conv10(x)\n",
        "    x = torch.cat([x, block1], dim=1)\n",
        "    x = self.conv10(x)\n",
        "    \n",
        "    x = self.conv11(x)\n",
        "    \n",
        "    return x"
      ],
      "execution_count": 243,
      "outputs": []
    },
    {
      "cell_type": "code",
      "metadata": {
        "cellView": "form",
        "id": "vArKmAsoQ3ef"
      },
      "source": [
        "#@title Train the model\n"
      ],
      "execution_count": 244,
      "outputs": []
    },
    {
      "cell_type": "code",
      "metadata": {
        "id": "Jq4zuY4SNGtP"
      },
      "source": [
        "#Define Loss Function\n",
        "ce = nn.CrossEntropyLoss()\n",
        "def UnetLoss(preds, targets):\n",
        "  ce_loss = ce(preds, targets)\n",
        "  acc = (torch.max(preds, 1)[1] == targets).float().mean()\n",
        "  return ce_loss, acc"
      ],
      "execution_count": 245,
      "outputs": []
    },
    {
      "cell_type": "code",
      "metadata": {
        "id": "SMlslKS9NT_l"
      },
      "source": [
        "#Define train function\n",
        "def train_batch(model, data, optimizer, criterion):\n",
        "  model.train()\n",
        "  ims, ce_masks = data\n",
        "  _masks = model(ims)\n",
        "  optimizer.zero_grad()\n",
        "  loss, acc = criterion(_masks, ce_masks)\n",
        "  loss.backward()\n",
        "  optimizer.step()\n",
        "  \n",
        "  return loss.item(), acc.item()"
      ],
      "execution_count": 246,
      "outputs": []
    },
    {
      "cell_type": "code",
      "metadata": {
        "id": "I1UMj8p4NgNX"
      },
      "source": [
        "def validate_batch(model, data, criterion):\n",
        "  model.eval()\n",
        "  ims, masks = data\n",
        "  _masks = model(ims)\n",
        "  loss, acc = criterion(_masks, masks)\n",
        "\n",
        "  return loss.item(), acc.item()"
      ],
      "execution_count": 247,
      "outputs": []
    },
    {
      "cell_type": "code",
      "metadata": {
        "id": "H3w32zHwQj8n"
      },
      "source": [
        "# define parameters\n",
        "model = UNet().to(device)\n",
        "criterion = UnetLoss\n",
        "optimizer = optim.Adam(model.parameters(), lr=1e-3)\n",
        "n_epochs = 20"
      ],
      "execution_count": 248,
      "outputs": []
    },
    {
      "cell_type": "code",
      "metadata": {
        "colab": {
          "base_uri": "https://localhost:8080/"
        },
        "id": "jXfW3K9zQoMu",
        "outputId": "eb0107cf-6e94-4fbb-cecf-eb017a3e497a"
      },
      "source": [
        "# train the model \n",
        "log = Report(n_epochs)\n",
        "\n",
        "for ex in range(n_epochs):\n",
        "  N = len(trn_dl)\n",
        "  for i, data in enumerate(trn_dl):\n",
        "    loss, acc = train_batch(model, data, optimizer, criterion)\n",
        "    log.record(ex+(i+1)/N,trn_loss=loss,trn_acc=acc, end='\\r')\n",
        "\n",
        "  N = len(val_dl)\n",
        "  for i, data in enumerate(val_dl):\n",
        "    loss, acc = validate_batch(model, data, criterion)\n",
        "    log.record(ex+(i+1)/N,val_loss=loss,val_acc=acc, end='\\r')\n",
        "  \n",
        "  log.report_avgs(ex+1)"
      ],
      "execution_count": 249,
      "outputs": [
        {
          "output_type": "stream",
          "name": "stdout",
          "text": [
            "EPOCH: 1.000\ttrn_loss: 1.142\ttrn_acc: 0.750\tval_loss: 0.772\tval_acc: 0.823\t(46.86s - 890.42s remaining)\n",
            "EPOCH: 2.000\ttrn_loss: 0.676\ttrn_acc: 0.829\tval_loss: 0.588\tval_acc: 0.853\t(94.04s - 846.36s remaining)\n",
            "EPOCH: 3.000\ttrn_loss: 0.559\ttrn_acc: 0.850\tval_loss: 0.588\tval_acc: 0.838\t(141.29s - 800.64s remaining)\n",
            "EPOCH: 4.000\ttrn_loss: 0.505\ttrn_acc: 0.863\tval_loss: 0.530\tval_acc: 0.862\t(188.47s - 753.87s remaining)\n",
            "EPOCH: 5.000\ttrn_loss: 0.470\ttrn_acc: 0.870\tval_loss: 0.457\tval_acc: 0.868\t(235.58s - 706.74s remaining)\n",
            "EPOCH: 6.000\ttrn_loss: 0.417\ttrn_acc: 0.884\tval_loss: 0.522\tval_acc: 0.846\t(282.63s - 659.46s remaining)\n",
            "EPOCH: 7.000\ttrn_loss: 0.412\ttrn_acc: 0.883\tval_loss: 0.493\tval_acc: 0.858\t(329.75s - 612.39s remaining)\n",
            "EPOCH: 8.000\ttrn_loss: 0.370\ttrn_acc: 0.896\tval_loss: 0.420\tval_acc: 0.878\t(376.79s - 565.19s remaining)\n",
            "EPOCH: 9.000\ttrn_loss: 0.346\ttrn_acc: 0.903\tval_loss: 0.414\tval_acc: 0.878\t(423.83s - 518.01s remaining)\n",
            "EPOCH: 10.000\ttrn_loss: 0.320\ttrn_acc: 0.910\tval_loss: 0.386\tval_acc: 0.887\t(470.94s - 470.94s remaining)\n",
            "EPOCH: 11.000\ttrn_loss: 0.309\ttrn_acc: 0.914\tval_loss: 0.467\tval_acc: 0.860\t(518.01s - 423.83s remaining)\n",
            "EPOCH: 12.000\ttrn_loss: 0.330\ttrn_acc: 0.906\tval_loss: 0.411\tval_acc: 0.878\t(565.13s - 376.76s remaining)\n",
            "EPOCH: 13.000\ttrn_loss: 0.290\ttrn_acc: 0.918\tval_loss: 0.375\tval_acc: 0.886\t(612.23s - 329.66s remaining)\n",
            "EPOCH: 14.000\ttrn_loss: 0.272\ttrn_acc: 0.923\tval_loss: 0.438\tval_acc: 0.878\t(659.38s - 282.59s remaining)\n",
            "EPOCH: 15.000\ttrn_loss: 0.267\ttrn_acc: 0.924\tval_loss: 0.365\tval_acc: 0.897\t(706.40s - 235.47s remaining)\n",
            "EPOCH: 16.000\ttrn_loss: 0.249\ttrn_acc: 0.930\tval_loss: 0.385\tval_acc: 0.894\t(753.42s - 188.36s remaining)\n",
            "EPOCH: 17.000\ttrn_loss: 0.234\ttrn_acc: 0.934\tval_loss: 0.352\tval_acc: 0.904\t(800.54s - 141.27s remaining)\n",
            "EPOCH: 18.000\ttrn_loss: 0.226\ttrn_acc: 0.936\tval_loss: 0.336\tval_acc: 0.909\t(847.62s - 94.18s remaining)\n",
            "EPOCH: 19.000\ttrn_loss: 0.215\ttrn_acc: 0.939\tval_loss: 0.389\tval_acc: 0.899\t(894.84s - 47.10s remaining)\n",
            "EPOCH: 20.000\ttrn_loss: 0.217\ttrn_acc: 0.938\tval_loss: 0.378\tval_acc: 0.903\t(941.95s - 0.00s remaining)\n"
          ]
        }
      ]
    },
    {
      "cell_type": "code",
      "metadata": {
        "colab": {
          "base_uri": "https://localhost:8080/",
          "height": 405
        },
        "id": "C6zKLM4JRqUO",
        "outputId": "941e5687-ac15-4ec5-ad26-daaa94811a16"
      },
      "source": [
        "#Visualize the training, validation loss, and accuracy values\n",
        "log.plot_epochs(['trn_loss','val_loss'])"
      ],
      "execution_count": 250,
      "outputs": [
        {
          "output_type": "stream",
          "name": "stderr",
          "text": [
            "100%|██████████| 121/121 [00:00<00:00, 804.22it/s]\n"
          ]
        },
        {
          "output_type": "display_data",
          "data": {
            "image/png": "[encoded data removed]",
            "text/plain": [
              "<Figure size 576x432 with 1 Axes>"
            ]
          },
          "metadata": {
            "needs_background": "light"
          }
        }
      ]
    },
    {
      "cell_type": "code",
      "metadata": {
        "id": "dU-M1nOuW5Wk"
      },
      "source": [
        ""
      ],
      "execution_count": 250,
      "outputs": []
    },
    {
      "cell_type": "code",
      "metadata": {
        "id": "MzQp1wMvWVkF"
      },
      "source": [
        "# Calculate the predicted output on a new image\n",
        "\n",
        "im, mask = next(iter(val_dl))  # im, mask  = next(iter(test_dataloader))\n",
        "_mask = model(im)              # _mask = pretrained_G(pretrained_E(im))"
      ],
      "execution_count": 251,
      "outputs": []
    },
    {
      "cell_type": "code",
      "metadata": {
        "id": "LX4AYb9bW5_k"
      },
      "source": [
        "_, _mask = torch.max(_mask, dim=1)"
      ],
      "execution_count": 252,
      "outputs": []
    },
    {
      "cell_type": "code",
      "metadata": {
        "colab": {
          "base_uri": "https://localhost:8080/",
          "height": 145
        },
        "id": "4l19eyUXXqEi",
        "outputId": "0a768050-01d0-4397-91b8-ed56a2a9c2ab"
      },
      "source": [
        "subplots([im[0].permute(1,2,0).detach().cpu()[:,:,0], \n",
        "          mask.permute(1,2,0).detach().cpu()[:,:,0], \n",
        "          _mask.permute(1,2,0).detach().cpu()[:,:,0]],\n",
        "          nc=3, \n",
        "          titles=['Original image','Original mask', 'Predicted mask'])"
      ],
      "execution_count": 253,
      "outputs": [
        {
          "output_type": "display_data",
          "data": {
            "image/png": "[encoded data removed]",
            "text/plain": [
              "<Figure size 360x360 with 3 Axes>"
            ]
          },
          "metadata": {
            "needs_background": "light"
          }
        }
      ]
    },
    {
      "cell_type": "code",
      "metadata": {
        "id": "8BdEKaP0anrX"
      },
      "source": [
        ""
      ],
      "execution_count": null,
      "outputs": []
    }
  ]
}